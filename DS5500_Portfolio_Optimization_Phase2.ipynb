{
 "cells": [
  {
   "cell_type": "code",
   "execution_count": 4,
   "id": "88f47544-c250-4f09-a58b-45e9d5859474",
   "metadata": {},
   "outputs": [
    {
     "name": "stdout",
     "output_type": "stream",
     "text": [
      "Intel MKL WARNING: Support of Intel(R) Streaming SIMD Extensions 4.2 (Intel(R) SSE4.2) enabled only processors has been deprecated. Intel oneAPI Math Kernel Library 2025.0 will require Intel(R) Advanced Vector Extensions (Intel(R) AVX) instructions.\n",
      "Intel MKL WARNING: Support of Intel(R) Streaming SIMD Extensions 4.2 (Intel(R) SSE4.2) enabled only processors has been deprecated. Intel oneAPI Math Kernel Library 2025.0 will require Intel(R) Advanced Vector Extensions (Intel(R) AVX) instructions.\n"
     ]
    }
   ],
   "source": [
    "import streamlit as st\n",
    "import yfinance as yf\n",
    "from datetime import datetime, timedelta\n",
    "import matplotlib.pyplot as plt\n",
    "from prophet import Prophet\n",
    "from prophet.plot import plot_plotly\n",
    "import plotly.graph_objects as go"
   ]
  },
  {
   "cell_type": "code",
   "execution_count": 5,
   "id": "be005953-49cc-41a4-86ed-e91b5ffdaac1",
   "metadata": {},
   "outputs": [],
   "source": [
    "def get_stock_data(ticker, start_date, end_date):\n",
    "    start_date = start_date.strftime('%Y-%m-%d')\n",
    "    end_date = end_date.strftime('%Y-%m-%d')\n",
    "    data = yf.download(ticker, start=start_date, end=end_date)\n",
    "    return data"
   ]
  },
  {
   "cell_type": "code",
   "execution_count": 6,
   "id": "834e8b88-2b12-45cb-96e3-cbb2903aaa38",
   "metadata": {},
   "outputs": [],
   "source": [
    "def plot_chart(data, ticker):\n",
    "    data = data.reset_index()\n",
    "    fig = go.Figure()\n",
    "    fig.add_trace(go.Scatter(x=data['Date'], y=data['Adj Close'], mode='lines', name=f'{ticker} Stock Price'))\n",
    "\n",
    "    fig.update_layout(\n",
    "        title=f'{ticker} Stock Price',\n",
    "        xaxis_title=\"Date\",\n",
    "        yaxis_title=\"Price\",\n",
    "        xaxis=dict(\n",
    "            rangeslider=dict(\n",
    "                visible=False\n",
    "            ),\n",
    "            type=\"date\"\n",
    "        )\n",
    "    )\n",
    "    st.plotly_chart(fig)"
   ]
  },
  {
   "cell_type": "code",
   "execution_count": 7,
   "id": "d30293b4-2bf1-46b5-b55c-9a0bee89d55a",
   "metadata": {},
   "outputs": [],
   "source": [
    "def forecast_stock_price(data, ticker):\n",
    "    if len(data) >= 251:\n",
    "        data = data.reset_index()\n",
    "        df = data[['Date', 'Adj Close']]\n",
    "        df.rename(columns={'Date': 'ds', 'Adj Close': 'y'}, inplace=True)\n",
    "        model = Prophet(daily_seasonality = True)\n",
    "        model.fit(df)\n",
    "        future = model.make_future_dataframe(periods=120)\n",
    "        pred = model.predict(future)\n",
    "        fig = plot_plotly(model, pred)\n",
    "        fig.update_layout(\n",
    "            title=f'{ticker} Price Forecast',\n",
    "            xaxis_title=\"Date\",\n",
    "            yaxis_title=\"Price\"\n",
    "        )\n",
    "        st.plotly_chart(fig)\n",
    "    else:\n",
    "        st.warning(\"Not enough historical data available for forecasting. (Select at least twelve months of data to forecast)\")"
   ]
  },
  {
   "cell_type": "code",
   "execution_count": 8,
   "id": "87e89460-de09-484e-aecb-448e76620db0",
   "metadata": {},
   "outputs": [],
   "source": [
    "def main():\n",
    "    st.title('Portfolio Optimization Tool')\n",
    "\n",
    "    st.sidebar.title('Navigate')\n",
    "    page = st.sidebar.selectbox('Page', [\"Explore Stocks\", \"Build Your Portfolio\"])\n",
    "\n",
    "    if page == \"Explore Stocks\":\n",
    "        st.subheader('View Stock Data')\n",
    "        \n",
    "        ticker = st.text_input('Enter Stock Ticker (e.g., AAPL):').upper()\n",
    "        start_date = st.date_input('Select Start Date:')\n",
    "        end_date = st.date_input('Select End Date:')\n",
    "    \n",
    "        if ticker:\n",
    "            data = get_stock_data(ticker, start_date, end_date)\n",
    "            if not data.empty:\n",
    "                \n",
    "                if st.button('View Chart'):\n",
    "                    plot_chart(data, ticker)\n",
    "                    \n",
    "                st.subheader('Make a Forecast')\n",
    "                if st.button('Forecast'):\n",
    "                    forecast_stock_price(data, ticker)\n",
    "            else:\n",
    "                st.warning('No data found for the selected stock ticker and timeframe.')"
   ]
  },
  {
   "cell_type": "code",
   "execution_count": 9,
   "id": "88b2fc26-4820-43c8-b7f9-25e9d30349c0",
   "metadata": {},
   "outputs": [
    {
     "ename": "AttributeError",
     "evalue": "module 'streamlit.runtime' has no attribute 'exists'",
     "output_type": "error",
     "traceback": [
      "\u001b[0;31m---------------------------------------------------------------------------\u001b[0m",
      "\u001b[0;31mAttributeError\u001b[0m                            Traceback (most recent call last)",
      "Cell \u001b[0;32mIn[9], line 2\u001b[0m\n\u001b[1;32m      1\u001b[0m \u001b[38;5;28;01mif\u001b[39;00m \u001b[38;5;18m__name__\u001b[39m \u001b[38;5;241m==\u001b[39m \u001b[38;5;124m\"\u001b[39m\u001b[38;5;124m__main__\u001b[39m\u001b[38;5;124m\"\u001b[39m:\n\u001b[0;32m----> 2\u001b[0m     \u001b[43mmain\u001b[49m\u001b[43m(\u001b[49m\u001b[43m)\u001b[49m\n",
      "Cell \u001b[0;32mIn[8], line 2\u001b[0m, in \u001b[0;36mmain\u001b[0;34m()\u001b[0m\n\u001b[1;32m      1\u001b[0m \u001b[38;5;28;01mdef\u001b[39;00m \u001b[38;5;21mmain\u001b[39m():\n\u001b[0;32m----> 2\u001b[0m     \u001b[43mst\u001b[49m\u001b[38;5;241;43m.\u001b[39;49m\u001b[43mtitle\u001b[49m\u001b[43m(\u001b[49m\u001b[38;5;124;43m'\u001b[39;49m\u001b[38;5;124;43mPortfolio Optimization Tool\u001b[39;49m\u001b[38;5;124;43m'\u001b[39;49m\u001b[43m)\u001b[49m\n\u001b[1;32m      4\u001b[0m     st\u001b[38;5;241m.\u001b[39msidebar\u001b[38;5;241m.\u001b[39mtitle(\u001b[38;5;124m'\u001b[39m\u001b[38;5;124mNavigate\u001b[39m\u001b[38;5;124m'\u001b[39m)\n\u001b[1;32m      5\u001b[0m     page \u001b[38;5;241m=\u001b[39m st\u001b[38;5;241m.\u001b[39msidebar\u001b[38;5;241m.\u001b[39mselectbox(\u001b[38;5;124m'\u001b[39m\u001b[38;5;124mPage\u001b[39m\u001b[38;5;124m'\u001b[39m, [\u001b[38;5;124m\"\u001b[39m\u001b[38;5;124mExplore Stocks\u001b[39m\u001b[38;5;124m\"\u001b[39m, \u001b[38;5;124m\"\u001b[39m\u001b[38;5;124mBuild Your Portfolio\u001b[39m\u001b[38;5;124m\"\u001b[39m])\n",
      "File \u001b[0;32m~/opt/anaconda3/lib/python3.9/site-packages/streamlit/runtime/metrics_util.py:365\u001b[0m, in \u001b[0;36mgather_metrics.<locals>.wrapped_func\u001b[0;34m(*args, **kwargs)\u001b[0m\n\u001b[1;32m    362\u001b[0m \u001b[38;5;28;01mfrom\u001b[39;00m \u001b[38;5;21;01mstreamlit\u001b[39;00m\u001b[38;5;21;01m.\u001b[39;00m\u001b[38;5;21;01mruntime\u001b[39;00m\u001b[38;5;21;01m.\u001b[39;00m\u001b[38;5;21;01mscriptrunner\u001b[39;00m \u001b[38;5;28;01mimport\u001b[39;00m get_script_run_ctx\n\u001b[1;32m    363\u001b[0m \u001b[38;5;28;01mfrom\u001b[39;00m \u001b[38;5;21;01mstreamlit\u001b[39;00m\u001b[38;5;21;01m.\u001b[39;00m\u001b[38;5;21;01mruntime\u001b[39;00m\u001b[38;5;21;01m.\u001b[39;00m\u001b[38;5;21;01mscriptrunner\u001b[39;00m\u001b[38;5;21;01m.\u001b[39;00m\u001b[38;5;21;01mscript_runner\u001b[39;00m \u001b[38;5;28;01mimport\u001b[39;00m RerunException\n\u001b[0;32m--> 365\u001b[0m ctx \u001b[38;5;241m=\u001b[39m \u001b[43mget_script_run_ctx\u001b[49m\u001b[43m(\u001b[49m\u001b[43msuppress_warning\u001b[49m\u001b[38;5;241;43m=\u001b[39;49m\u001b[38;5;28;43;01mTrue\u001b[39;49;00m\u001b[43m)\u001b[49m\n\u001b[1;32m    367\u001b[0m tracking_activated \u001b[38;5;241m=\u001b[39m (\n\u001b[1;32m    368\u001b[0m     ctx \u001b[38;5;129;01mis\u001b[39;00m \u001b[38;5;129;01mnot\u001b[39;00m \u001b[38;5;28;01mNone\u001b[39;00m\n\u001b[1;32m    369\u001b[0m     \u001b[38;5;129;01mand\u001b[39;00m ctx\u001b[38;5;241m.\u001b[39mgather_usage_stats\n\u001b[0;32m   (...)\u001b[0m\n\u001b[1;32m    372\u001b[0m     \u001b[38;5;241m<\u001b[39m _MAX_TRACKED_COMMANDS  \u001b[38;5;66;03m# Prevent too much memory usage\u001b[39;00m\n\u001b[1;32m    373\u001b[0m )\n\u001b[1;32m    375\u001b[0m command_telemetry: Command \u001b[38;5;241m|\u001b[39m \u001b[38;5;28;01mNone\u001b[39;00m \u001b[38;5;241m=\u001b[39m \u001b[38;5;28;01mNone\u001b[39;00m\n",
      "File \u001b[0;32m~/opt/anaconda3/lib/python3.9/site-packages/streamlit/runtime/scriptrunner/script_run_context.py:202\u001b[0m, in \u001b[0;36mget_script_run_ctx\u001b[0;34m(suppress_warning)\u001b[0m\n\u001b[1;32m    200\u001b[0m thread \u001b[38;5;241m=\u001b[39m threading\u001b[38;5;241m.\u001b[39mcurrent_thread()\n\u001b[1;32m    201\u001b[0m ctx: ScriptRunContext \u001b[38;5;241m|\u001b[39m \u001b[38;5;28;01mNone\u001b[39;00m \u001b[38;5;241m=\u001b[39m \u001b[38;5;28mgetattr\u001b[39m(thread, SCRIPT_RUN_CONTEXT_ATTR_NAME, \u001b[38;5;28;01mNone\u001b[39;00m)\n\u001b[0;32m--> 202\u001b[0m \u001b[38;5;28;01mif\u001b[39;00m ctx \u001b[38;5;129;01mis\u001b[39;00m \u001b[38;5;28;01mNone\u001b[39;00m \u001b[38;5;129;01mand\u001b[39;00m \u001b[43mruntime\u001b[49m\u001b[38;5;241;43m.\u001b[39;49m\u001b[43mexists\u001b[49m() \u001b[38;5;129;01mand\u001b[39;00m \u001b[38;5;129;01mnot\u001b[39;00m suppress_warning:\n\u001b[1;32m    203\u001b[0m     \u001b[38;5;66;03m# Only warn about a missing ScriptRunContext if suppress_warning is False, and\u001b[39;00m\n\u001b[1;32m    204\u001b[0m     \u001b[38;5;66;03m# we were started via `streamlit run`. Otherwise, the user is likely running a\u001b[39;00m\n\u001b[1;32m    205\u001b[0m     \u001b[38;5;66;03m# script \"bare\", and doesn't need to be warned about streamlit\u001b[39;00m\n\u001b[1;32m    206\u001b[0m     \u001b[38;5;66;03m# bits that are irrelevant when not connected to a session.\u001b[39;00m\n\u001b[1;32m    207\u001b[0m     _LOGGER\u001b[38;5;241m.\u001b[39mwarning(\u001b[38;5;124m\"\u001b[39m\u001b[38;5;124mThread \u001b[39m\u001b[38;5;124m'\u001b[39m\u001b[38;5;132;01m%s\u001b[39;00m\u001b[38;5;124m'\u001b[39m\u001b[38;5;124m: missing ScriptRunContext\u001b[39m\u001b[38;5;124m\"\u001b[39m, thread\u001b[38;5;241m.\u001b[39mname)\n\u001b[1;32m    209\u001b[0m \u001b[38;5;28;01mreturn\u001b[39;00m ctx\n",
      "\u001b[0;31mAttributeError\u001b[0m: module 'streamlit.runtime' has no attribute 'exists'"
     ]
    }
   ],
   "source": [
    "if __name__ == \"__main__\":\n",
    "    main()"
   ]
  },
  {
   "cell_type": "code",
   "execution_count": null,
   "id": "9f460dc2-d69a-4901-861b-5b905ade30aa",
   "metadata": {},
   "outputs": [],
   "source": []
  }
 ],
 "metadata": {
  "kernelspec": {
   "display_name": "Python 3 (ipykernel)",
   "language": "python",
   "name": "python3"
  },
  "language_info": {
   "codemirror_mode": {
    "name": "ipython",
    "version": 3
   },
   "file_extension": ".py",
   "mimetype": "text/x-python",
   "name": "python",
   "nbconvert_exporter": "python",
   "pygments_lexer": "ipython3",
   "version": "3.9.19"
  }
 },
 "nbformat": 4,
 "nbformat_minor": 5
}
