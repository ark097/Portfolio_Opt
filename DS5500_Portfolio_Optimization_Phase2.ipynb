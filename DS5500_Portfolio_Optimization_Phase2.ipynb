{
 "cells": [
  {
   "cell_type": "code",
   "execution_count": 47,
   "id": "88f47544-c250-4f09-a58b-45e9d5859474",
   "metadata": {},
   "outputs": [],
   "source": [
    "import streamlit as st\n",
    "import yfinance as yf\n",
    "from datetime import datetime, timedelta\n",
    "import matplotlib.pyplot as plt\n",
    "from prophet import Prophet\n",
    "from prophet.plot import plot_plotly\n",
    "import plotly.graph_objects as go"
   ]
  },
  {
   "cell_type": "code",
   "execution_count": 10,
   "id": "be005953-49cc-41a4-86ed-e91b5ffdaac1",
   "metadata": {},
   "outputs": [],
   "source": [
    "def get_stock_data(ticker, start_date, end_date):\n",
    "    start_date = start_date.strftime('%Y-%m-%d')\n",
    "    end_date = end_date.strftime('%Y-%m-%d')\n",
    "    data = yf.download(ticker, start=start_date, end=end_date)\n",
    "    return data"
   ]
  },
  {
   "cell_type": "code",
   "execution_count": 68,
   "id": "834e8b88-2b12-45cb-96e3-cbb2903aaa38",
   "metadata": {},
   "outputs": [],
   "source": [
    "def plot_chart(data):\n",
    "    data = data.reset_index()\n",
    "    fig = go.Figure()\n",
    "    fig.add_trace(go.Scatter(x=data['Date'], y=data['Adj Close'], mode='lines', name=f'{ticker} Stock Price'))\n",
    "\n",
    "    fig.update_layout(\n",
    "        title=f'{ticker} Stock Price',\n",
    "        xaxis_title=\"Date\",\n",
    "        yaxis_title=\"Price\",\n",
    "        xaxis=dict(\n",
    "            rangeslider=dict(\n",
    "                visible=False\n",
    "            ),\n",
    "            type=\"date\"\n",
    "        )\n",
    "    )\n",
    "    st.plotly_chart(fig)"
   ]
  },
  {
   "cell_type": "code",
   "execution_count": 79,
   "id": "d30293b4-2bf1-46b5-b55c-9a0bee89d55a",
   "metadata": {},
   "outputs": [],
   "source": [
    "def forecast_stock_price(data):\n",
    "    if len(data) >= 251:\n",
    "        data = data.reset_index()\n",
    "        df = data[['Date', 'Adj Close']]\n",
    "        df.rename(columns={'Date': 'ds', 'Adj Close': 'y'}, inplace=True)\n",
    "        model = Prophet(daily_seasonality = True)\n",
    "        model.fit(df)\n",
    "        future = model.make_future_dataframe(periods=120)\n",
    "        pred = model.predict(future)\n",
    "        fig = plot_plotly(model, pred)\n",
    "        fig.update_layout(\n",
    "            title=f'{ticker} Price Forecast',\n",
    "            xaxis_title=\"Date\",\n",
    "            yaxis_title=\"Price\"\n",
    "        )\n",
    "        st.plotly_chart(fig)\n",
    "    else:\n",
    "        st.warning(\"Not enough historical data available for forecasting. (Select at least twelve months of data to forecast)\")"
   ]
  },
  {
   "cell_type": "code",
   "execution_count": 70,
   "id": "87e89460-de09-484e-aecb-448e76620db0",
   "metadata": {},
   "outputs": [],
   "source": [
    "st.title('Portfolio Optimization Tool')\n",
    "\n",
    "ticker = st.text_input('Enter Stock Ticker (e.g., AAPL):')\n",
    "start_date = st.date_input('Select Start Date:')\n",
    "end_date = st.date_input('Select End Date:')\n",
    "\n",
    "if ticker:\n",
    "    data = get_stock_data(ticker, start_date, end_date)\n",
    "    if not data.empty:\n",
    "        \n",
    "        if st.button('View Chart'):\n",
    "            plot_chart(data)\n",
    "\n",
    "        if st.button('Forecast'):\n",
    "            forecast_stock_price(data)\n",
    "    else:\n",
    "        st.warning('No data found for the selected stock ticker and timeframe.')"
   ]
  },
  {
   "cell_type": "code",
   "execution_count": null,
   "id": "88b2fc26-4820-43c8-b7f9-25e9d30349c0",
   "metadata": {},
   "outputs": [],
   "source": []
  }
 ],
 "metadata": {
  "kernelspec": {
   "display_name": "Python 3 (ipykernel)",
   "language": "python",
   "name": "python3"
  },
  "language_info": {
   "codemirror_mode": {
    "name": "ipython",
    "version": 3
   },
   "file_extension": ".py",
   "mimetype": "text/x-python",
   "name": "python",
   "nbconvert_exporter": "python",
   "pygments_lexer": "ipython3",
   "version": "3.9.18"
  }
 },
 "nbformat": 4,
 "nbformat_minor": 5
}
